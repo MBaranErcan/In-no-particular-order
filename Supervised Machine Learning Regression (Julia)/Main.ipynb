{
 "cells": [
  {
   "cell_type": "markdown",
   "metadata": {},
   "source": [
    "<p style=\"text-align:center\">\n",
    "    <a href=\"https://skills.network/?utm_medium=Exinfluencer&utm_source=Exinfluencer&utm_content=000026UJ&utm_term=10006555&utm_id=NA-SkillsNetwork-Channel-SkillsNetworkCoursesIBMDeveloperSkillsNetworkML0101ENSkillsNetwork20718538-2022-01-01\">\n",
    "    <img src=\"https://cf-courses-data.s3.us.cloud-object-storage.appdomain.cloud/assets/logos/SN_web_lightmode.png\" width=\"200\" alt=\"Skills Network Logo\"  />\n",
    "    </a>\n",
    "</p>\n",
    "\n",
    "<h1 align=\"center\"><font size=\"5\">Supervised Machine Learning: Regression - Final Assignment</font></h1>\n"
   ]
  },
  {
   "cell_type": "markdown",
   "metadata": {},
   "source": [
    "## Instructions:\n",
    "\n",
    "In this Assignment, you will demonstrate the data regression skills you have learned by completing this course. You are expected to leverage a wide variety of tools, but also this report should focus on present findings, insights, and next steps. You may include some visuals from your code output, but this report is intended as a summary of your findings, not as a code review. \n",
    "\n",
    "The grading will center around 5 main points:\n",
    "\n",
    "1. Does the report include a section describing the data?\n",
    "2. Does the report include a paragraph detailing the main objective(s) of this analysis? \n",
    "3. Does the report include a section with variations of linear regression models and specifies which one is the model that best suits the main objective(s) of this analysis.\n",
    "4. Does the report include a clear and well-presented section with key findings related to the main objective(s) of the analysis?\n",
    "5. Does the report highlight possible flaws in the model and a plan of action to revisit this analysis with additional data or different predictive modeling techniques? \n",
    "\n",
    "\n"
   ]
  },
  {
   "cell_type": "markdown",
   "metadata": {},
   "source": [
    "## Import the required libraries\n"
   ]
  },
  {
   "cell_type": "code",
   "execution_count": 2,
   "metadata": {
    "tags": []
   },
   "outputs": [],
   "source": [
    "###   IMPORTANT NOTE: THIIS PROJECT IS A JULIA CODE, NOT PYTHON. HOWEVER IT DOES THE SAME THING SO THERE SHOULD BE NO PROBLEM .ipynb files support BOTH the julia and python\n",
    "\n",
    "\n",
    "#using Pkg\n",
    "#Pkg.add(\"CSV\") ### remove to install these packages\n",
    "#Pkg.add(\"DataFrames\")\n",
    "#Pkg.add(\"MultivariateStats\")\n",
    "#Pkg.add(\"MLDataUtils\")\n",
    "#Pkg.add(\"Statistics\")"
   ]
  },
  {
   "cell_type": "markdown",
   "metadata": {},
   "source": [
    "## Importing the Dataset\n"
   ]
  },
  {
   "cell_type": "markdown",
   "metadata": {},
   "source": [
    "Before you begin, you will need to choose a data set that you feel passionate about. You can brainstorm with your peers about great public data sets using the discussion board in this module.\n"
   ]
  },
  {
   "cell_type": "markdown",
   "metadata": {},
   "source": [
    "Read your chosen dataset into pandas dataframe:\n"
   ]
  },
  {
   "cell_type": "code",
   "execution_count": 2,
   "metadata": {
    "tags": []
   },
   "outputs": [],
   "source": [
    "using GLM # For\n",
    "using CSV # For\n",
    "using DataFrames # For\n",
    "using MLDataUtils # For\n",
    "using Statistics # For\n",
    "using MultivariateStats # For Ridge"
   ]
  },
  {
   "cell_type": "code",
   "execution_count": 5,
   "metadata": {},
   "outputs": [
    {
     "data": {
      "text/html": [
       "<div><div style = \"float: left;\"><span>30×3 DataFrame</span></div><div style = \"float: right;\"><span style = \"font-style: italic;\">5 rows omitted</span></div><div style = \"clear: both;\"></div></div><div class = \"data-frame\" style = \"overflow-x: scroll;\"><table class = \"data-frame\" style = \"margin-bottom: 6px;\"><thead><tr class = \"header\"><th class = \"rowNumber\" style = \"font-weight: bold; text-align: right;\">Row</th><th style = \"text-align: left;\">NO</th><th style = \"text-align: left;\">HAPPINESS_INDEX</th><th style = \"text-align: left;\">RELIGIOUSNESS_INDEX</th></tr><tr class = \"subheader headerLastRow\"><th class = \"rowNumber\" style = \"font-weight: bold; text-align: right;\"></th><th title = \"Int64\" style = \"text-align: left;\">Int64</th><th title = \"Float64\" style = \"text-align: left;\">Float64</th><th title = \"Float64\" style = \"text-align: left;\">Float64</th></tr></thead><tbody><tr><td class = \"rowNumber\" style = \"font-weight: bold; text-align: right;\">1</td><td style = \"text-align: right;\">9</td><td style = \"text-align: right;\">0.81</td><td style = \"text-align: right;\">1.0</td></tr><tr><td class = \"rowNumber\" style = \"font-weight: bold; text-align: right;\">2</td><td style = \"text-align: right;\">68</td><td style = \"text-align: right;\">0.83</td><td style = \"text-align: right;\">0.42</td></tr><tr><td class = \"rowNumber\" style = \"font-weight: bold; text-align: right;\">3</td><td style = \"text-align: right;\">95</td><td style = \"text-align: right;\">0.92</td><td style = \"text-align: right;\">0.25</td></tr><tr><td class = \"rowNumber\" style = \"font-weight: bold; text-align: right;\">4</td><td style = \"text-align: right;\">34</td><td style = \"text-align: right;\">0.78</td><td style = \"text-align: right;\">0.42</td></tr><tr><td class = \"rowNumber\" style = \"font-weight: bold; text-align: right;\">5</td><td style = \"text-align: right;\">65</td><td style = \"text-align: right;\">0.97</td><td style = \"text-align: right;\">0.61</td></tr><tr><td class = \"rowNumber\" style = \"font-weight: bold; text-align: right;\">6</td><td style = \"text-align: right;\">83</td><td style = \"text-align: right;\">0.78</td><td style = \"text-align: right;\">0.33</td></tr><tr><td class = \"rowNumber\" style = \"font-weight: bold; text-align: right;\">7</td><td style = \"text-align: right;\">38</td><td style = \"text-align: right;\">0.94</td><td style = \"text-align: right;\">0.67</td></tr><tr><td class = \"rowNumber\" style = \"font-weight: bold; text-align: right;\">8</td><td style = \"text-align: right;\">75</td><td style = \"text-align: right;\">0.53</td><td style = \"text-align: right;\">0.39</td></tr><tr><td class = \"rowNumber\" style = \"font-weight: bold; text-align: right;\">9</td><td style = \"text-align: right;\">19</td><td style = \"text-align: right;\">0.86</td><td style = \"text-align: right;\">0.17</td></tr><tr><td class = \"rowNumber\" style = \"font-weight: bold; text-align: right;\">10</td><td style = \"text-align: right;\">30</td><td style = \"text-align: right;\">0.11</td><td style = \"text-align: right;\">0.78</td></tr><tr><td class = \"rowNumber\" style = \"font-weight: bold; text-align: right;\">11</td><td style = \"text-align: right;\">100</td><td style = \"text-align: right;\">0.86</td><td style = \"text-align: right;\">0.83</td></tr><tr><td class = \"rowNumber\" style = \"font-weight: bold; text-align: right;\">12</td><td style = \"text-align: right;\">12</td><td style = \"text-align: right;\">0.72</td><td style = \"text-align: right;\">1.0</td></tr><tr><td class = \"rowNumber\" style = \"font-weight: bold; text-align: right;\">13</td><td style = \"text-align: right;\">78</td><td style = \"text-align: right;\">0.67</td><td style = \"text-align: right;\">0.36</td></tr><tr><td style = \"text-align: right;\">&vellip;</td><td style = \"text-align: right;\">&vellip;</td><td style = \"text-align: right;\">&vellip;</td><td style = \"text-align: right;\">&vellip;</td></tr><tr><td class = \"rowNumber\" style = \"font-weight: bold; text-align: right;\">19</td><td style = \"text-align: right;\">23</td><td style = \"text-align: right;\">1.0</td><td style = \"text-align: right;\">1.0</td></tr><tr><td class = \"rowNumber\" style = \"font-weight: bold; text-align: right;\">20</td><td style = \"text-align: right;\">86</td><td style = \"text-align: right;\">0.47</td><td style = \"text-align: right;\">0.83</td></tr><tr><td class = \"rowNumber\" style = \"font-weight: bold; text-align: right;\">21</td><td style = \"text-align: right;\">93</td><td style = \"text-align: right;\">0.92</td><td style = \"text-align: right;\">0.81</td></tr><tr><td class = \"rowNumber\" style = \"font-weight: bold; text-align: right;\">22</td><td style = \"text-align: right;\">56</td><td style = \"text-align: right;\">0.5</td><td style = \"text-align: right;\">0.97</td></tr><tr><td class = \"rowNumber\" style = \"font-weight: bold; text-align: right;\">23</td><td style = \"text-align: right;\">99</td><td style = \"text-align: right;\">0.72</td><td style = \"text-align: right;\">1.0</td></tr><tr><td class = \"rowNumber\" style = \"font-weight: bold; text-align: right;\">24</td><td style = \"text-align: right;\">80</td><td style = \"text-align: right;\">0.94</td><td style = \"text-align: right;\">0.33</td></tr><tr><td class = \"rowNumber\" style = \"font-weight: bold; text-align: right;\">25</td><td style = \"text-align: right;\">21</td><td style = \"text-align: right;\">0.92</td><td style = \"text-align: right;\">0.64</td></tr><tr><td class = \"rowNumber\" style = \"font-weight: bold; text-align: right;\">26</td><td style = \"text-align: right;\">14</td><td style = \"text-align: right;\">0.86</td><td style = \"text-align: right;\">0.83</td></tr><tr><td class = \"rowNumber\" style = \"font-weight: bold; text-align: right;\">27</td><td style = \"text-align: right;\">31</td><td style = \"text-align: right;\">0.94</td><td style = \"text-align: right;\">1.0</td></tr><tr><td class = \"rowNumber\" style = \"font-weight: bold; text-align: right;\">28</td><td style = \"text-align: right;\">69</td><td style = \"text-align: right;\">0.78</td><td style = \"text-align: right;\">0.5</td></tr><tr><td class = \"rowNumber\" style = \"font-weight: bold; text-align: right;\">29</td><td style = \"text-align: right;\">22</td><td style = \"text-align: right;\">0.86</td><td style = \"text-align: right;\">0.83</td></tr><tr><td class = \"rowNumber\" style = \"font-weight: bold; text-align: right;\">30</td><td style = \"text-align: right;\">3</td><td style = \"text-align: right;\">0.44</td><td style = \"text-align: right;\">0.83</td></tr></tbody></table></div>"
      ],
      "text/latex": [
       "\\begin{tabular}{r|ccc}\n",
       "\t& NO & HAPPINESS\\_INDEX & RELIGIOUSNESS\\_INDEX\\\\\n",
       "\t\\hline\n",
       "\t& Int64 & Float64 & Float64\\\\\n",
       "\t\\hline\n",
       "\t1 & 9 & 0.81 & 1.0 \\\\\n",
       "\t2 & 68 & 0.83 & 0.42 \\\\\n",
       "\t3 & 95 & 0.92 & 0.25 \\\\\n",
       "\t4 & 34 & 0.78 & 0.42 \\\\\n",
       "\t5 & 65 & 0.97 & 0.61 \\\\\n",
       "\t6 & 83 & 0.78 & 0.33 \\\\\n",
       "\t7 & 38 & 0.94 & 0.67 \\\\\n",
       "\t8 & 75 & 0.53 & 0.39 \\\\\n",
       "\t9 & 19 & 0.86 & 0.17 \\\\\n",
       "\t10 & 30 & 0.11 & 0.78 \\\\\n",
       "\t11 & 100 & 0.86 & 0.83 \\\\\n",
       "\t12 & 12 & 0.72 & 1.0 \\\\\n",
       "\t13 & 78 & 0.67 & 0.36 \\\\\n",
       "\t14 & 98 & 0.69 & 0.75 \\\\\n",
       "\t15 & 52 & 0.72 & 0.25 \\\\\n",
       "\t16 & 26 & 0.97 & 0.33 \\\\\n",
       "\t17 & 87 & 0.92 & 0.83 \\\\\n",
       "\t18 & 89 & 0.31 & 0.81 \\\\\n",
       "\t19 & 23 & 1.0 & 1.0 \\\\\n",
       "\t20 & 86 & 0.47 & 0.83 \\\\\n",
       "\t21 & 93 & 0.92 & 0.81 \\\\\n",
       "\t22 & 56 & 0.5 & 0.97 \\\\\n",
       "\t23 & 99 & 0.72 & 1.0 \\\\\n",
       "\t24 & 80 & 0.94 & 0.33 \\\\\n",
       "\t$\\dots$ & $\\dots$ & $\\dots$ & $\\dots$ \\\\\n",
       "\\end{tabular}\n"
      ],
      "text/plain": [
       "\u001b[1m30×3 DataFrame\u001b[0m\n",
       "\u001b[1m Row \u001b[0m│\u001b[1m NO    \u001b[0m\u001b[1m HAPPINESS_INDEX \u001b[0m\u001b[1m RELIGIOUSNESS_INDEX \u001b[0m\n",
       "     │\u001b[90m Int64 \u001b[0m\u001b[90m Float64         \u001b[0m\u001b[90m Float64             \u001b[0m\n",
       "─────┼─────────────────────────────────────────────\n",
       "   1 │     9             0.81                 1.0\n",
       "   2 │    68             0.83                 0.42\n",
       "   3 │    95             0.92                 0.25\n",
       "   4 │    34             0.78                 0.42\n",
       "   5 │    65             0.97                 0.61\n",
       "   6 │    83             0.78                 0.33\n",
       "   7 │    38             0.94                 0.67\n",
       "   8 │    75             0.53                 0.39\n",
       "  ⋮  │   ⋮           ⋮                  ⋮\n",
       "  24 │    80             0.94                 0.33\n",
       "  25 │    21             0.92                 0.64\n",
       "  26 │    14             0.86                 0.83\n",
       "  27 │    31             0.94                 1.0\n",
       "  28 │    69             0.78                 0.5\n",
       "  29 │    22             0.86                 0.83\n",
       "  30 │     3             0.44                 0.83\n",
       "\u001b[36m                                    15 rows omitted\u001b[0m"
      ]
     },
     "metadata": {},
     "output_type": "display_data"
    }
   ],
   "source": [
    "## create the DataFrame\n",
    "df = DataFrame(CSV.File(\"Final_Data.csv\"))\n",
    "\n",
    "# Split the data into training and test sets\n",
    "train, test = splitobs(shuffleobs(df), at = 0.7) #0.7 train and 0.3 test (with shuffle)\n",
    "\n",
    "test = dropmissing(test) # Drop rows with missing values in the test set"
   ]
  },
  {
   "cell_type": "code",
   "execution_count": 7,
   "metadata": {},
   "outputs": [
    {
     "data": {
      "text/plain": [
       "StatsModels.TableRegressionModel{LinearModel{GLM.LmResp{Vector{Float64}}, GLM.DensePredChol{Float64, LinearAlgebra.CholeskyPivoted{Float64, Matrix{Float64}, Vector{Int64}}}}, Matrix{Float64}}\n",
       "\n",
       "HAPPINESS_INDEX ~ 1 + RELIGIOUSNESS_INDEX\n",
       "\n",
       "Coefficients:\n",
       "─────────────────────────────────────────────────────────────────────────────────\n",
       "                         Coef.  Std. Error      t  Pr(>|t|)  Lower 95%  Upper 95%\n",
       "─────────────────────────────────────────────────────────────────────────────────\n",
       "(Intercept)          0.713985    0.0559013  12.77    <1e-19   0.602436   0.825534\n",
       "RELIGIOUSNESS_INDEX  0.0750616   0.0916899   0.82    0.4158  -0.107903   0.258026\n",
       "─────────────────────────────────────────────────────────────────────────────────"
      ]
     },
     "metadata": {},
     "output_type": "display_data"
    }
   ],
   "source": [
    "# Linear Regression model\n",
    "lr_model = lm(@formula(HAPPINESS_INDEX ~ RELIGIOUSNESS_INDEX), train)"
   ]
  },
  {
   "cell_type": "code",
   "execution_count": 8,
   "metadata": {},
   "outputs": [
    {
     "data": {
      "text/plain": [
       "StatsModels.TableRegressionModel{LinearModel{GLM.LmResp{Vector{Float64}}, GLM.DensePredChol{Float64, LinearAlgebra.CholeskyPivoted{Float64, Matrix{Float64}, Vector{Int64}}}}, Matrix{Float64}}\n",
       "\n",
       "HAPPINESS_INDEX ~ 1 + RELIGIOUSNESS_INDEX + RELIGIOUSNESS_INDEX_SQ\n",
       "\n",
       "Coefficients:\n",
       "────────────────────────────────────────────────────────────────────────────────────\n",
       "                            Coef.  Std. Error      t  Pr(>|t|)  Lower 95%  Upper 95%\n",
       "────────────────────────────────────────────────────────────────────────────────────\n",
       "(Intercept)              0.768422    0.122075   6.29    <1e-07   0.524759   1.01209\n",
       "RELIGIOUSNESS_INDEX     -0.171866    0.500111  -0.34    0.7322  -1.17009    0.826359\n",
       "RELIGIOUSNESS_INDEX_SQ   0.208952    0.415944   0.50    0.6171  -0.621275   1.03918\n",
       "────────────────────────────────────────────────────────────────────────────────────"
      ]
     },
     "metadata": {},
     "output_type": "display_data"
    }
   ],
   "source": [
    "# Polynomial Regression\n",
    "train[!, :RELIGIOUSNESS_INDEX_SQ] = train[!, :RELIGIOUSNESS_INDEX].^2   # create the RELIGIOUSNESS_INDEX_SQ column in the train\n",
    "test[!, :RELIGIOUSNESS_INDEX_SQ] = test[!, :RELIGIOUSNESS_INDEX].^2     # create the RELIGIOUSNESS_INDEX_SQ column in the test too\n",
    "poly_model = lm(@formula(HAPPINESS_INDEX ~ RELIGIOUSNESS_INDEX + RELIGIOUSNESS_INDEX_SQ), train)"
   ]
  },
  {
   "cell_type": "code",
   "execution_count": 9,
   "metadata": {},
   "outputs": [
    {
     "data": {
      "text/plain": [
       "3-element Vector{Float64}:\n",
       " -0.008339546346219381\n",
       "  0.07116441304030596\n",
       "  0.7321521937937668"
      ]
     },
     "metadata": {},
     "output_type": "display_data"
    }
   ],
   "source": [
    "# Ridge Regression\n",
    "X_train = Matrix{Float64}(train[:, [:RELIGIOUSNESS_INDEX, :RELIGIOUSNESS_INDEX_SQ]])\n",
    "y_train = Vector{Float64}(train[!, :HAPPINESS_INDEX])\n",
    "ridge_model = ridge(X_train, y_train, 0.5) # 0.5 is the regularization parameter"
   ]
  },
  {
   "cell_type": "code",
   "execution_count": 11,
   "metadata": {},
   "outputs": [
    {
     "data": {
      "text/plain": [
       "30-element Vector{Union{Missing, Float64}}:\n",
       " 0.7890465128771376\n",
       " 0.7455107702408307\n",
       " 0.7327502939508787\n",
       " 0.7455107702408307\n",
       " 0.759772479035483\n",
       " 0.7387552239696796\n",
       " 0.7642761765495837\n",
       " 0.7432589214837803\n",
       " 0.7267453639320777\n",
       " 0.772532955325435\n",
       " ⋮\n",
       " 0.7867946641200873\n",
       " 0.7890465128771376\n",
       " 0.7387552239696796\n",
       " 0.7620243277925333\n",
       " 0.7762860365871855\n",
       " 0.7890465128771376\n",
       " 0.7515157002596317\n",
       " 0.7762860365871855\n",
       " 0.7762860365871855"
      ]
     },
     "metadata": {},
     "output_type": "display_data"
    }
   ],
   "source": [
    "# Predict on the test set\n",
    "X_test = Matrix{Float64}(test[:, [:RELIGIOUSNESS_INDEX, :RELIGIOUSNESS_INDEX_SQ]])\n",
    "y_test = Vector{Float64}(test[!, :HAPPINESS_INDEX])\n",
    "\n",
    "\n",
    "# Predictions\n",
    "lr_pred = predict(lr_model, test)"
   ]
  },
  {
   "cell_type": "code",
   "execution_count": 12,
   "metadata": {},
   "outputs": [
    {
     "data": {
      "text/plain": [
       "30-element Vector{Union{Missing, Float64}}:\n",
       " 0.8055083066889008\n",
       " 0.733097593308986\n",
       " 0.7385151861531124\n",
       " 0.733097593308986\n",
       " 0.7413349762694565\n",
       " 0.7344612738898306\n",
       " 0.7470705401141252\n",
       " 0.7331760393007953\n",
       " 0.7452436882959003\n",
       " 0.761493149148109\n",
       " ⋮\n",
       " 0.7983152114458025\n",
       " 0.8055083066889008\n",
       " 0.7344612738898306\n",
       " 0.7440147010908881\n",
       " 0.7697204992018838\n",
       " 0.8055083066889008\n",
       " 0.7347271845396551\n",
       " 0.7697204992018838\n",
       " 0.7697204992018838"
      ]
     },
     "metadata": {},
     "output_type": "display_data"
    }
   ],
   "source": [
    "poly_pred = predict(poly_model, test)"
   ]
  },
  {
   "cell_type": "code",
   "execution_count": 13,
   "metadata": {},
   "outputs": [
    {
     "data": {
      "text/plain": [
       "30-element Vector{Float64}:\n",
       " 0.7949770604878534\n",
       " 0.15070115411592955\n",
       " 0.055211069025967535\n",
       " 0.15070115411592955\n",
       " 0.3075045769190279\n",
       " 0.0948760838612228\n",
       " 0.3680037301848076\n",
       " 0.1307749234155319\n",
       " 0.0249176022712725\n",
       " 0.49261009052934707\n",
       " ⋮\n",
       " 0.7495719334434325\n",
       " 0.7949770604878534\n",
       " 0.0948760838612228\n",
       " 0.3370952165775033\n",
       " 0.5551065627817605\n",
       " 0.7949770604878534\n",
       " 0.2102807086223753\n",
       " 0.5551065627817605\n",
       " 0.5551065627817605"
      ]
     },
     "metadata": {},
     "output_type": "display_data"
    }
   ],
   "source": [
    "X_test = hcat(ones(size(X_test, 1)), X_test) # Turn into matrix for ridge\n",
    "ridge_pred = X_test * ridge_model"
   ]
  },
  {
   "cell_type": "code",
   "execution_count": 16,
   "metadata": {},
   "outputs": [
    {
     "name": "stdout",
     "output_type": "stream",
     "text": [
      "Linear Regression MSE = 0.04663153227376573"
     ]
    }
   ],
   "source": [
    "# Mean Squared Error (MSE)\n",
    "lr_mse = mean((lr_pred - y_test).^2)\n",
    "print(\"Linear Regression MSE = $lr_mse\")"
   ]
  },
  {
   "cell_type": "code",
   "execution_count": 18,
   "metadata": {},
   "outputs": [
    {
     "name": "stdout",
     "output_type": "stream",
     "text": [
      "Polynomial Regression MSE = 0.046386860826652346"
     ]
    }
   ],
   "source": [
    "poly_mse = mean((poly_pred - y_test).^2)\n",
    "print(\"Polynomial Regression MSE = $poly_mse\")"
   ]
  },
  {
   "cell_type": "code",
   "execution_count": 19,
   "metadata": {},
   "outputs": [
    {
     "name": "stdout",
     "output_type": "stream",
     "text": [
      "Ridge Regression Metrics: MSE = 0.25219309317974054"
     ]
    }
   ],
   "source": [
    "ridge_mse = mean((ridge_pred - y_test).^2)\n",
    "\n",
    "print(\"Ridge Regression Metrics: MSE = $ridge_mse\")"
   ]
  },
  {
   "cell_type": "code",
   "execution_count": 20,
   "metadata": {},
   "outputs": [
    {
     "name": "stdout",
     "output_type": "stream",
     "text": [
      "\n",
      "A smaller MSE means a better fit of the model to the data\n",
      "The Polynomial Regression model has the smallest MSE: 0.046386860826652346\n"
     ]
    }
   ],
   "source": [
    "println(\"\\nA smaller MSE means a better fit of the model to the data\")\n",
    "\n",
    "# Find the smallest MSE\n",
    "min_mse = min(lr_mse, poly_mse, ridge_mse)\n",
    "\n",
    "# Determine which model has the smallest MSE\n",
    "if min_mse == lr_mse\n",
    "    println(\"The Linear Regression model has the smallest MSE: $lr_mse\")\n",
    "elseif min_mse == poly_mse\n",
    "    println(\"The Polynomial Regression model has the smallest MSE: $poly_mse\")\n",
    "else\n",
    "    println(\"The Ridge Regression model has the smallest MSE: $ridge_mse\")\n",
    "end"
   ]
  },
  {
   "cell_type": "markdown",
   "metadata": {},
   "source": [
    "Once you have selected a data set, you will produce the deliverables listed below and submit them to one of your peers for review. Treat this exercise as an opportunity to produce analysis that are ready to highlight your analytical skills for a senior audience, for example, the Chief Data Officer, or the Head of Analytics at your company.\n",
    "Sections required in your report:\n",
    "\n",
    "*   Main objective of the analysis that specifies whether your model will be focused on prediction or interpretation.\n",
    "*   Brief description of the data set you chose and a summary of its attributes.\n",
    "*   Brief summary of data exploration and actions taken for data cleaning and feature engineering.\n",
    "*   Summary of training at least three linear regression models which should be variations that cover using a simple  linear regression as a baseline, adding polynomial effects, and using a regularization regression. Preferably, all use the same training and test splits, or the same cross-validation method.\n",
    "*  A paragraph explaining which of your regressions you recommend as a final model that best fits your needs in terms of accuracy and explainability.\n",
    "*  Summary Key Findings and Insights, which walks your reader through the main drivers of your model and insights from your data derived from your linear regression model.\n",
    "*  Suggestions for next steps in analyzing this data, which may include suggesting revisiting this model adding specific data features to achieve a better explanation or a better prediction.\n"
   ]
  },
  {
   "cell_type": "markdown",
   "metadata": {},
   "source": [
    "# 1. About the Data\n"
   ]
  },
  {
   "cell_type": "code",
   "execution_count": 24,
   "metadata": {
    "tags": []
   },
   "outputs": [
    {
     "data": {
      "text/plain": [
       "'Brief Description of the Data Set and Summary of its Attributes:\\n    The dataset I’m working with is derived from a survey that explores a range of topics including personal beliefs, feelings, and religious views.\\n    It consists of 26 attributes, each representing a different question from the survey. \\n    These questions cover a variety of areas such as commitment and involvement in activities that bring joy, perceptions of others’ happiness, \\n    reactions to sudden changes in life, trust in others’ honesty, frequency of laughter, appreciation of beauty, feelings of synchronicity with the world, \\n    satisfaction in personal relationships, and various aspects of religious belief and practice.'"
      ]
     },
     "execution_count": 24,
     "metadata": {},
     "output_type": "execute_result"
    }
   ],
   "source": [
    "'''Brief Description of the Data Set and Summary of its Attributes:\n",
    "    The dataset I’m working with is derived from a survey that explores a range of topics including personal beliefs, feelings, and religious views.\n",
    "    It consists of 26 attributes, each representing a different question from the survey. \n",
    "    These questions cover a variety of areas such as commitment and involvement in activities that bring joy, perceptions of others’ happiness, \n",
    "    reactions to sudden changes in life, trust in others’ honesty, frequency of laughter, appreciation of beauty, feelings of synchronicity with the world, \n",
    "    satisfaction in personal relationships, and various aspects of religious belief and practice.'''"
   ]
  },
  {
   "cell_type": "code",
   "execution_count": 28,
   "metadata": {
    "tags": []
   },
   "outputs": [
    {
     "data": {
      "text/plain": [
       "'Brief summary of data exploration:\\n    To conduct my analysis, I found a survey data on an online website called StatCrunch. This data source includes the survey responses of one hundred individuals that\\n    may vary by age, gender, or their beliefs in religion. This diversity allowed me to obtain more unbiased results.\\n    I analysed this data to gather the information that was needed to calculate statistics or test my hypothesis. The survey included many questions about the participants’\\n    perspective on themselves and religious beliefs. This allowed me to calculate various statistics that helped me to support or reject my arguments. In order to calculate the happiness index\\n    and the religiousness index for each individual, i took their answers to the survey questions into calculation and scaled accordingly. After that, i got a result from 0 to 1 indicating their levels of religiousness and happiness.'"
      ]
     },
     "execution_count": 28,
     "metadata": {},
     "output_type": "execute_result"
    }
   ],
   "source": [
    "'''Brief summary of data exploration:\n",
    "    To conduct my analysis, I found a survey data on an online website called StatCrunch. This data source includes the survey responses of one hundred individuals that\n",
    "    may vary by age, gender, or their beliefs in religion. This diversity allowed me to obtain more unbiased results.\n",
    "    I analysed this data to gather the information that was needed to calculate statistics or test my hypothesis. The survey included many questions about the participants’\n",
    "    perspective on themselves and religious beliefs. This allowed me to calculate various statistics that helped me to support or reject my arguments. In order to calculate the happiness index\n",
    "    and the religiousness index for each individual, i took their answers to the survey questions into calculation and scaled accordingly. After that, i got a result from 0 to 1 indicating their levels of religiousness and happiness.'''"
   ]
  },
  {
   "cell_type": "markdown",
   "metadata": {},
   "source": [
    "# 2. Objectives\n"
   ]
  },
  {
   "cell_type": "code",
   "execution_count": null,
   "metadata": {},
   "outputs": [],
   "source": [
    "'''Main Objective of the Analysis:\n",
    "    The purpose of this study is to examine the potential association between an individual’s religious beliefs and their happiness levels. \n",
    "    Specifically, the study aims to determine whether an individual’s religious beliefs and activities, can be correlated with their perceptions about themselves \n",
    "    and the world around them. To achieve this, I combined what I have learned from this course with findings from an online source that surveyed 100 individuals \n",
    "    about their aspects of religiousness and happiness. '''"
   ]
  },
  {
   "cell_type": "markdown",
   "metadata": {},
   "source": [
    "# 3. Linear Regression Models\n"
   ]
  },
  {
   "cell_type": "code",
   "execution_count": 44,
   "metadata": {
    "tags": []
   },
   "outputs": [
    {
     "data": {
      "text/plain": [
       "'I trained three different linear regression models on the same training set, which was split from the original dataset. \\n    The models include a simple linear regression, a polynomial regression, and a ridge regression.'"
      ]
     },
     "execution_count": 44,
     "metadata": {},
     "output_type": "execute_result"
    }
   ],
   "source": [
    "'''I trained three different linear regression models on the same training set, which was split from the original dataset. \n",
    "    The models include a simple linear regression, a polynomial regression, and a ridge regression.'''\n",
    "\n",
    "\n"
   ]
  },
  {
   "cell_type": "code",
   "execution_count": 45,
   "metadata": {
    "tags": []
   },
   "outputs": [
    {
     "data": {
      "text/plain": [
       "'Simple Linear Regression: This model uses the RELIGIOUSNESS_INDEX as the predictor variable to predict the HAPPINESS_INDEX. It serves as our baseline model.'"
      ]
     },
     "execution_count": 45,
     "metadata": {},
     "output_type": "execute_result"
    }
   ],
   "source": [
    "'''Simple Linear Regression: This model uses the RELIGIOUSNESS_INDEX as the predictor variable to predict the HAPPINESS_INDEX. It serves as our baseline model.'''"
   ]
  },
  {
   "cell_type": "code",
   "execution_count": 46,
   "metadata": {
    "tags": []
   },
   "outputs": [
    {
     "data": {
      "text/plain": [
       "'Polynomial Regression: This model includes an additional polynomial term (RELIGIOUSNESS_INDEX_SQ) to capture any non-linear relationship between the \\n    RELIGIOUSNESS_INDEX and the HAPPINESS_INDEX.'"
      ]
     },
     "execution_count": 46,
     "metadata": {},
     "output_type": "execute_result"
    }
   ],
   "source": [
    "'''Polynomial Regression: This model includes an additional polynomial term (RELIGIOUSNESS_INDEX_SQ) to capture any non-linear relationship between the \n",
    "    RELIGIOUSNESS_INDEX and the HAPPINESS_INDEX.'''"
   ]
  },
  {
   "cell_type": "code",
   "execution_count": 47,
   "metadata": {
    "tags": []
   },
   "outputs": [
    {
     "data": {
      "text/plain": [
       "'Ridge Regression: This model is similar to the polynomial regression model but includes a regularization term with a lambda of 0.5 to prevent overfitting.'"
      ]
     },
     "execution_count": 47,
     "metadata": {},
     "output_type": "execute_result"
    }
   ],
   "source": [
    "'''Ridge Regression: This model is similar to the polynomial regression model but includes a regularization term with a lambda of 0.5 to prevent overfitting.'''"
   ]
  },
  {
   "cell_type": "code",
   "execution_count": 48,
   "metadata": {
    "tags": []
   },
   "outputs": [
    {
     "data": {
      "text/plain": [
       "'Recommended Model:\\n    Both the Polynomial and the Linear Regression models (suprisingly not Ridge) displays a pretty good job while interpreting. They give similar results for MSE (Mean Squared Error) \\n    on test set. It is totally yours choice to choose which model to implement, however, implementing a linear regression model could be relatively easier.'"
      ]
     },
     "execution_count": 48,
     "metadata": {},
     "output_type": "execute_result"
    }
   ],
   "source": [
    "'''Recommended Model:\n",
    "    Both the Polynomial and the Linear Regression models (suprisingly not Ridge) displays a pretty good job while interpreting. They give similar results for MSE (Mean Squared Error) \n",
    "    on test set. It is totally yours choice to choose which model to implement, however, implementing a linear regression model could be relatively easier.'''"
   ]
  },
  {
   "cell_type": "markdown",
   "metadata": {},
   "source": [
    "# 4. Insights and key findings\n"
   ]
  },
  {
   "cell_type": "code",
   "execution_count": 39,
   "metadata": {
    "tags": []
   },
   "outputs": [
    {
     "data": {
      "text/plain": [
       "'Key Findings and Insights:\\n    The coefficients of the models provide insights into the relationship between the RELIGIOUSNESS_INDEX and the HAPPINESS_INDEX. \\n    For example, in the simple linear regression model, the coefficient of RELIGIOUSNESS_INDEX indicates how much the HAPPINESS_INDEX changes \\n    with a one-unit increase in the RELIGIOUSNESS_INDEX, holding all other predictors constant.\\n\\n    In the polynomial regression model, the coefficients of RELIGIOUSNESS_INDEX and RELIGIOUSNESS_INDEX_SQ together describe a curve that represents the \\n    relationship between the RELIGIOUSNESS_INDEX and the HAPPINESS_INDEX.'"
      ]
     },
     "execution_count": 39,
     "metadata": {},
     "output_type": "execute_result"
    }
   ],
   "source": [
    "'''Key Findings and Insights:\n",
    "    The coefficients of the models provide insights into the relationship between the RELIGIOUSNESS_INDEX and the HAPPINESS_INDEX. \n",
    "    For example, in the simple linear regression model, the coefficient of RELIGIOUSNESS_INDEX indicates how much the HAPPINESS_INDEX changes \n",
    "    with a one-unit increase in the RELIGIOUSNESS_INDEX, holding all other predictors constant.\n",
    "\n",
    "    In the polynomial regression model, the coefficients of RELIGIOUSNESS_INDEX and RELIGIOUSNESS_INDEX_SQ together describe a curve that represents the \n",
    "    relationship between the RELIGIOUSNESS_INDEX and the HAPPINESS_INDEX.'''"
   ]
  },
  {
   "cell_type": "markdown",
   "metadata": {},
   "source": [
    "# 5. Next Steps\n"
   ]
  },
  {
   "cell_type": "code",
   "execution_count": 38,
   "metadata": {
    "tags": []
   },
   "outputs": [
    {
     "data": {
      "text/plain": [
       "'Suggestions for Next Steps\\n    1 - Other types of regression models, such as Lasso or Elastic Net, could be explored. \\n    These models also include regularization terms and might provide a better fit to the data.\\n    \\n    2 - The lambda value in the ridge regression model could be tuned to find the optimal value that minimizes the MSE.\\n    \\n    3 - Different strategies for handling missing values could be explored. \\n    For example, instead of dropping rows with missing values like we did in our model, imputation methods could be used to \\n    fill in the missing values based on the values of other observations.'"
      ]
     },
     "execution_count": 38,
     "metadata": {},
     "output_type": "execute_result"
    }
   ],
   "source": [
    "'''Suggestions for Next Steps\n",
    "    1 - Other types of regression models, such as Lasso or Elastic Net, could be explored. \n",
    "    These models also include regularization terms and might provide a better fit to the data.\n",
    "    \n",
    "    2 - The lambda value in the ridge regression model could be tuned to find the optimal value that minimizes the MSE.\n",
    "    \n",
    "    3 - Different strategies for handling missing values could be explored. \n",
    "    For example, instead of dropping rows with missing values like we did in our model, imputation methods could be used to \n",
    "    fill in the missing values based on the values of other observations.'''"
   ]
  },
  {
   "cell_type": "markdown",
   "metadata": {},
   "source": [
    "## <h3 align=\"center\"> © IBM Corporation 2020. All rights reserved. <h3/>\n"
   ]
  }
 ],
 "metadata": {
  "kernelspec": {
   "display_name": "Julia 1.9.3",
   "language": "julia",
   "name": "julia-1.9"
  },
  "language_info": {
   "file_extension": ".jl",
   "mimetype": "application/julia",
   "name": "julia",
   "version": "1.9.3"
  }
 },
 "nbformat": 4,
 "nbformat_minor": 4
}
